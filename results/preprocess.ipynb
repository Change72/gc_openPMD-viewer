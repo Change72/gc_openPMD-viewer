{
 "cells": [
  {
   "cell_type": "code",
   "execution_count": 1,
   "metadata": {
    "collapsed": true
   },
   "outputs": [],
   "source": [
    "import pandas as pd\n",
    "\n"
   ]
  },
  {
   "cell_type": "code",
   "execution_count": 5,
   "metadata": {},
   "outputs": [],
   "source": [
    "df_path = \"/data/gc/rocksdb-index/openPMD-viewer/results/500g_iteration_10000/final_before_preprocessing.csv\"\n",
    "\n",
    "df = pd.read_csv(df_path, header=[0])"
   ]
  },
  {
   "cell_type": "code",
   "execution_count": 6,
   "metadata": {},
   "outputs": [
    {
     "name": "stdout",
     "output_type": "stream",
     "text": [
      "Index(['query_seq', 'target_percentage', 'select_set', 'test_type',\n",
      "       'test_name', 'index_type', 'storage', 'secondary', 'direct_block_read',\n",
      "       'read_groups', 'query_index_time_elapsed',\n",
      "       'remove_duplication_time_elapsed', 'sort_block_metadata_time_elapsed',\n",
      "       'find_optimal_read_solution_time_elapsed',\n",
      "       'generate_select_array_time_elapsed', 'get_target_data_time_elapsed',\n",
      "       'get_support_data_time_elapsed', 'data_calculation_time_elapsed',\n",
      "       'data_apply_select_time_elapsed',\n",
      "       'apply_particle_level_select_array_time_elapsed', 'total_time_elapsed',\n",
      "       'query_result_size', 'current_percentage', 'iteration', 'species',\n",
      "       'expand_set', 'envelope', 'data_size'],\n",
      "      dtype='object')\n"
     ]
    }
   ],
   "source": [
    "# print all df columns\n",
    "print(df.columns)"
   ]
  },
  {
   "cell_type": "code",
   "execution_count": 7,
   "metadata": {},
   "outputs": [],
   "source": [
    "# deduplication and keep the last by the column [query_seq target_percentage select_set  test_type test_name index_type storage secondary direct_block_read read_groups envelope]\n",
    "df = df.drop_duplicates(subset=['query_seq', 'target_percentage', 'select_set', 'test_type', 'test_name', 'index_type', 'storage', 'secondary', 'direct_block_read', 'read_groups', 'envelope'], keep='last')\n"
   ]
  },
  {
   "cell_type": "code",
   "execution_count": 8,
   "metadata": {},
   "outputs": [],
   "source": [
    "\n",
    "# remove the row that 'data_size' is NaN\n",
    "df = df.dropna(subset=['data_size'])\n",
    "\n"
   ]
  },
  {
   "cell_type": "code",
   "execution_count": 15,
   "metadata": {},
   "outputs": [],
   "source": [
    "# sort by query_seq target_percentage test_type\n",
    "df = df.sort_values(by=['target_percentage', 'envelope', 'test_type'])\n",
    "\n"
   ]
  },
  {
   "cell_type": "code",
   "execution_count": 16,
   "metadata": {},
   "outputs": [],
   "source": [
    "# reset index\n",
    "df = df.reset_index(drop=True)"
   ]
  },
  {
   "cell_type": "code",
   "execution_count": null,
   "metadata": {},
   "outputs": [],
   "source": []
  },
  {
   "cell_type": "code",
   "execution_count": null,
   "metadata": {},
   "outputs": [],
   "source": []
  },
  {
   "cell_type": "code",
   "execution_count": null,
   "metadata": {},
   "outputs": [],
   "source": []
  }
 ],
 "metadata": {
  "kernelspec": {
   "display_name": "Python 3 (ipykernel)",
   "language": "python",
   "name": "python3"
  },
  "language_info": {
   "codemirror_mode": {
    "name": "ipython",
    "version": 3
   },
   "file_extension": ".py",
   "mimetype": "text/x-python",
   "name": "python",
   "nbconvert_exporter": "python",
   "pygments_lexer": "ipython3",
   "version": "3.10.12"
  }
 },
 "nbformat": 4,
 "nbformat_minor": 0
}
