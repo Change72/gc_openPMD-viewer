{
 "cells": [
  {
   "cell_type": "code",
   "execution_count": 20,
   "metadata": {
    "collapsed": true
   },
   "outputs": [],
   "source": [
    "import pandas as pd\n",
    "\n"
   ]
  },
  {
   "cell_type": "code",
   "execution_count": 21,
   "metadata": {},
   "outputs": [],
   "source": [
    "df_path = \"/data/gc/rocksdb-index/openPMD-viewer/results/500g_iteration_10000/benchmark_result_selected_15_test.csv\"\n",
    "\n",
    "df = pd.read_csv(df_path, header=[0])"
   ]
  },
  {
   "cell_type": "code",
   "execution_count": 22,
   "metadata": {},
   "outputs": [
    {
     "name": "stdout",
     "output_type": "stream",
     "text": [
      "Index(['query_seq', 'target_percentage', 'select_set', 'test_type',\n",
      "       'test_name', 'index_type', 'storage', 'secondary', 'direct_block_read',\n",
      "       'read_groups', 'skip_offset', 'query_index_time_elapsed',\n",
      "       'remove_duplication_time_elapsed', 'sort_block_metadata_time_elapsed',\n",
      "       'find_optimal_read_solution_time_elapsed',\n",
      "       'generate_select_array_time_elapsed', 'get_target_data_time_elapsed',\n",
      "       'get_support_data_time_elapsed', 'data_calculation_time_elapsed',\n",
      "       'data_apply_select_time_elapsed',\n",
      "       'apply_particle_level_select_array_time_elapsed', 'total_time_elapsed',\n",
      "       'query_result_size', 'chunk_range_size', 'current_percentage',\n",
      "       'iteration', 'species', 'expand_set', 'envelope', 'data_size'],\n",
      "      dtype='object')\n"
     ]
    }
   ],
   "source": [
    "# print all df columns\n",
    "print(df.columns)"
   ]
  },
  {
   "cell_type": "code",
   "execution_count": 23,
   "metadata": {},
   "outputs": [],
   "source": [
    "# deduplication and keep the last by the column [query_seq target_percentage select_set  test_type test_name index_type storage secondary direct_block_read read_groups envelope]\n",
    "df = df.drop_duplicates(subset=['test_type', 'envelope'], keep='last')"
   ]
  },
  {
   "cell_type": "code",
   "execution_count": 24,
   "metadata": {},
   "outputs": [],
   "source": [
    "\n",
    "# remove the row that 'data_size' is NaN\n",
    "df = df.dropna(subset=['data_size'])\n",
    "\n"
   ]
  },
  {
   "cell_type": "code",
   "execution_count": 25,
   "metadata": {},
   "outputs": [],
   "source": [
    "# sort by query_seq target_percentage test_type\n",
    "df = df.sort_values(by=['target_percentage', 'envelope', 'test_type'])\n",
    "\n"
   ]
  },
  {
   "cell_type": "code",
   "execution_count": 26,
   "metadata": {},
   "outputs": [],
   "source": [
    "# reset index\n",
    "df = df.reset_index(drop=True)"
   ]
  },
  {
   "cell_type": "code",
   "execution_count": 27,
   "metadata": {},
   "outputs": [],
   "source": [
    "# keep the rows, where after grouping the df by envelope, if the group equals to 5\n",
    "df = df.groupby('envelope').filter(lambda x: len(x) == 5)"
   ]
  },
  {
   "cell_type": "code",
   "execution_count": 28,
   "metadata": {},
   "outputs": [
    {
     "name": "stdout",
     "output_type": "stream",
     "text": [
      "target_percentage  select_set                  \n",
      "0.01%              ('ux','uy')                     100\n",
      "                   ('ux','uy','uz')                 55\n",
      "                   ('ux','uy','uz','x')            100\n",
      "                   ('ux','uy','uz','x','y')        100\n",
      "                   ('ux','uy','uz','x','y','z')    160\n",
      "                   ('ux','uy','x','y')             100\n",
      "                   ('ux',)                          50\n",
      "                   ('x','y')                       100\n",
      "                   ('x','y','z')                    70\n",
      "                   ('x',)                           60\n",
      "dtype: int64\n"
     ]
    }
   ],
   "source": [
    "# print the count after grouping by target_percentage and select_set, and then count the size of each group / 5\n",
    "print(df.groupby(['target_percentage', 'select_set']).size() / 5)"
   ]
  },
  {
   "cell_type": "code",
   "execution_count": 19,
   "metadata": {},
   "outputs": [],
   "source": [
    "# save to csv\n",
    "df.to_csv(df_path.replace('before', 'after').replace('test', 'fin'), index=False)"
   ]
  }
 ],
 "metadata": {
  "kernelspec": {
   "display_name": "Python 3 (ipykernel)",
   "language": "python",
   "name": "python3"
  },
  "language_info": {
   "codemirror_mode": {
    "name": "ipython",
    "version": 3
   },
   "file_extension": ".py",
   "mimetype": "text/x-python",
   "name": "python",
   "nbconvert_exporter": "python",
   "pygments_lexer": "ipython3",
   "version": "3.10.12"
  }
 },
 "nbformat": 4,
 "nbformat_minor": 0
}
