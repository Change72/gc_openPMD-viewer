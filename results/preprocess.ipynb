{
 "cells": [
  {
   "cell_type": "code",
   "execution_count": 1,
   "metadata": {
    "collapsed": true
   },
   "source": [
    "import pandas as pd\n",
    "\n"
   ],
   "outputs": []
  },
  {
   "cell_type": "code",
   "execution_count": 2,
   "metadata": {},
   "source": [
    "df_path = \"/data/gc/rocksdb-index/openPMD-viewer/results/500g_iteration_10000/benchmark_result_selected_15_test.csv\"\n",
    "\n",
    "df = pd.read_csv(df_path, header=[0])"
   ],
   "outputs": []
  },
  {
   "cell_type": "code",
   "execution_count": 3,
   "metadata": {},
   "source": [
    "# print all df columns\n",
    "print(df.columns)"
   ],
   "outputs": []
  },
  {
   "cell_type": "code",
   "execution_count": 4,
   "metadata": {},
   "source": [
    "# deduplication and keep the last by the column [query_seq target_percentage select_set  test_type test_name index_type storage secondary direct_block_read read_groups envelope]\n",
    "df = df.drop_duplicates(subset=['test_type', 'envelope'], keep='last')"
   ],
   "outputs": []
  },
  {
   "cell_type": "code",
   "execution_count": 5,
   "metadata": {},
   "source": [
    "\n",
    "# remove the row that 'data_size' is NaN\n",
    "df = df.dropna(subset=['data_size'])\n",
    "\n"
   ],
   "outputs": []
  },
  {
   "cell_type": "code",
   "execution_count": 6,
   "metadata": {},
   "source": [
    "# sort by query_seq target_percentage test_type\n",
    "df = df.sort_values(by=['target_percentage', 'envelope', 'test_type'])\n",
    "\n"
   ],
   "outputs": []
  },
  {
   "cell_type": "code",
   "execution_count": 7,
   "metadata": {},
   "source": [
    "final_df_path = \"/data/gc/rocksdb-index/openPMD-viewer/results/final/large.csv\"\n",
    "final_df = pd.read_csv(final_df_path, header=[0])\n",
    "\n",
    "# only keep the envelope that is in the final_df's envelope\n",
    "df = df[df['envelope'].isin(final_df['envelope'])]"
   ],
   "outputs": []
  },
  {
   "cell_type": "code",
   "execution_count": 8,
   "metadata": {},
   "source": [
    "# reset index\n",
    "df = df.reset_index(drop=True)"
   ],
   "outputs": []
  },
  {
   "cell_type": "code",
   "execution_count": 9,
   "metadata": {},
   "source": [
    "# keep the rows, where after grouping the df by envelope, if the group equals to 5\n",
    "df = df.groupby('envelope').filter(lambda x: len(x) == 7)"
   ],
   "outputs": []
  },
  {
   "cell_type": "code",
   "execution_count": 10,
   "metadata": {},
   "source": [
    "# print the count after grouping by target_percentage and select_set, and then count the size of each group / 5\n",
    "print(df.groupby(['target_percentage', 'select_set']).size() / 7)"
   ],
   "outputs": []
  },
  {
   "cell_type": "code",
   "execution_count": 11,
   "metadata": {},
   "source": [
    "# save to csv\n",
    "df.to_csv(df_path.replace('before', 'after').replace('test', 'fin'), index=False)"
   ],
   "outputs": []
  }
 ],
 "metadata": {
  "kernelspec": {
   "display_name": "Python 3 (ipykernel)",
   "language": "python",
   "name": "python3"
  },
  "language_info": {
   "codemirror_mode": {
    "name": "ipython",
    "version": 3
   },
   "file_extension": ".py",
   "mimetype": "text/x-python",
   "name": "python",
   "nbconvert_exporter": "python",
   "pygments_lexer": "ipython3",
   "version": "3.10.12"
  }
 },
 "nbformat": 4,
 "nbformat_minor": 0
}
