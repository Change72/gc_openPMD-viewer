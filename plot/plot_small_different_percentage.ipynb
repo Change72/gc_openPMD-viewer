{
 "cells": [
  {
   "cell_type": "code",
   "id": "initial_id",
   "metadata": {
    "collapsed": true,
    "ExecuteTime": {
     "end_time": "2024-06-27T23:59:44.907810Z",
     "start_time": "2024-06-27T23:59:44.472738Z"
    }
   },
   "source": [
    "import matplotlib.pyplot as plt\n",
    "import numpy as np\n",
    "import pandas as pd\n",
    "from matplotlib.ticker import FuncFormatter\n",
    "from matplotlib.ticker import MaxNLocator, MultipleLocator\n",
    "\n",
    "import warnings\n",
    "warnings.filterwarnings('ignore')\n",
    "\n",
    "plt.rcParams[\"font.family\"] = \"serif\"\n",
    "plt.rcParams[\"font.serif\"] = [\"Times New Roman\"]\n"
   ],
   "outputs": [],
   "execution_count": 1
  },
  {
   "metadata": {
    "ExecuteTime": {
     "end_time": "2024-06-27T23:59:44.931742Z",
     "start_time": "2024-06-27T23:59:44.909018Z"
    }
   },
   "cell_type": "code",
   "source": [
    "proj_path = \"/home/4cv/project/gc_openPMD-viewer/\"\n",
    "\n",
    "df_path = proj_path + \"results/final/small.csv\"\n",
    "df = pd.read_csv(df_path, header=[0])"
   ],
   "id": "dffc3f88c6242807",
   "outputs": [],
   "execution_count": 2
  },
  {
   "metadata": {
    "ExecuteTime": {
     "end_time": "2024-06-27T23:59:44.959901Z",
     "start_time": "2024-06-27T23:59:44.932868Z"
    }
   },
   "cell_type": "code",
   "source": [
    "print(\"Before Sampling, each group size:\")\n",
    "print(df.groupby(['target_percentage', 'select_set']).size() / 10)\n",
    "\n",
    "number_of_each_group = 10\n",
    "target_percentage = \"0.01%\"\n",
    "df = df[df['test_type']==1]\n",
    "# Filter DataFrame by target_percentage\n",
    "df_filtered = df[df['target_percentage'].isin([\"0.01%\", \"10.00%\"])]\n",
    "# print(df_filtered.groupby(['target_percentage', 'select_set']).size() / 10)\n",
    "# Group by select_set and get unique envelope values for each group\n",
    "unique_envelopes = df_filtered.groupby('select_set')['envelope'].unique().reset_index()\n",
    "\n",
    "# Rename columns for clarity\n",
    "unique_envelopes.columns = ['select_set', 'unique_envelopes']\n",
    "\n",
    "# print the number of unique envelopes for each group\n",
    "# for i in range(number_of_each_group):\n",
    "#     print(f\"Group {i+1} has {len(unique_envelopes['unique_envelopes'][i])} unique envelopes.\")\n",
    "\n",
    "# Function to sample envelopes\n",
    "# def sample_envelopes(envelopes, n):\n",
    "#     return list(envelopes.sample(n=min(n, len(envelopes))))\n",
    "\n",
    "# Apply the sampling to each group\n",
    "# unique_envelopes['sampled_envelopes'] = unique_envelopes['unique_envelopes'].apply(lambda x: list(pd.Series(x).sample(number_of_each_group)))\n",
    "# # unique_envelopes['sampled_envelopes'] = unique_envelopes['unique_envelopes'].apply(lambda x: sample_envelopes(pd.Series(x), number_of_each_group))\n",
    "#\n",
    "# # Clean up the DataFrame by dropping the original unique envelopes column\n",
    "# for i in range(number_of_each_group):\n",
    "#     print(f\"Group {i+1} has {len(unique_envelopes['sampled_envelopes'][i])} sampled envelopes.\")\n",
    "\n",
    "unique_envelopes['sampled_envelopes'] = unique_envelopes['unique_envelopes']\n",
    "\n",
    "# Explode the sampled_envelopes into separate rows\n",
    "exploded_unique_envelopes = unique_envelopes.explode('sampled_envelopes')\n",
    "\n",
    "# Merge the exploded_unique_envelopes back to df_filtered to keep only relevant rows\n",
    "filtered_df = df_filtered.merge(exploded_unique_envelopes[['select_set', 'sampled_envelopes']],\n",
    "                                left_on=['select_set', 'envelope'],\n",
    "                                right_on=['select_set', 'sampled_envelopes'])\n",
    "\n",
    "# Drop the 'sampled_envelopes' column as it's now redundant\n",
    "filtered_df = filtered_df.drop(columns='sampled_envelopes')\n",
    "\n",
    "print(\"\")\n",
    "print(filtered_df.groupby(['target_percentage', 'select_set']).size())\n",
    "\n",
    "filtered_df = filtered_df[['target_percentage', 'select_set', 'test_type', 'query_index_time_elapsed', 'remove_duplication_time_elapsed',\n",
    "                           'sort_block_metadata_time_elapsed', 'find_optimal_read_solution_time_elapsed',\n",
    "                           'get_target_data_time_elapsed', 'get_support_data_time_elapsed',\n",
    "                           'data_calculation_time_elapsed', 'data_apply_select_time_elapsed', 'apply_particle_level_select_array_time_elapsed', 'total_time_elapsed', 'query_result_size', 'chunk_range_size']]\n",
    "\n",
    "filtered_df['indexing'] = filtered_df['query_index_time_elapsed'] + df['remove_duplication_time_elapsed'] + df['sort_block_metadata_time_elapsed'] + df['find_optimal_read_solution_time_elapsed']\n",
    "filtered_df['IO_time'] = filtered_df['get_target_data_time_elapsed'] + df['get_support_data_time_elapsed']\n",
    "filtered_df['calculation'] = filtered_df['data_calculation_time_elapsed'] + df['data_apply_select_time_elapsed'] + df['apply_particle_level_select_array_time_elapsed']\n",
    "\n",
    "filtered_df = filtered_df[['target_percentage', 'select_set', 'indexing', 'IO_time', 'calculation', 'total_time_elapsed', 'query_result_size', 'chunk_range_size']]\n",
    "\n",
    "# Group by select_set and test_type, then compute the average value\n",
    "averaged_df = filtered_df.groupby(['target_percentage', 'select_set']).mean().reset_index()\n",
    "\n",
    "\n",
    "# only keep the select_set with specific values: ('ux',),  ('ux','uy'),  ('ux','uy','uz'),  ('ux','uy','uz','x'), ('ux','uy','uz','x','y'), ('ux','uy','uz','x','y','z')\n",
    "averaged_df = averaged_df[averaged_df['select_set'].isin([\"('ux',)\", \"('ux','uy')\", \"('ux','uy','uz')\", \"('ux','uy','uz','x')\", \"('ux','uy','uz','x','y')\", \"('ux','uy','uz','x','y','z')\"])]\n",
    "\n",
    "# a new column to indicate the length of select_set\n",
    "averaged_df['select_set_length'] = averaged_df['select_set'].apply(lambda x: len(eval(x)))\n",
    "\n",
    "# sort by select_set_length\n",
    "averaged_df = averaged_df.sort_values('select_set_length')\n",
    "print(\"\")\n",
    "print(averaged_df.groupby(['target_percentage', 'select_set']).size())\n",
    "# print(averaged_df)\n"
   ],
   "id": "9b2ae77dd7a0b36d",
   "outputs": [
    {
     "name": "stdout",
     "output_type": "stream",
     "text": [
      "Before Sampling, each group size:\n",
      "target_percentage  select_set                  \n",
      "0.01%              ('ux','uy')                     15.0\n",
      "                   ('ux','uy','uz')                15.0\n",
      "                   ('ux','uy','uz','x')            15.0\n",
      "                   ('ux','uy','uz','x','y')        15.0\n",
      "                   ('ux','uy','uz','x','y','z')    15.0\n",
      "                   ('ux','uy','x','y')             15.0\n",
      "                   ('ux',)                         15.0\n",
      "                   ('x','y')                       15.0\n",
      "                   ('x','y','z')                   15.0\n",
      "                   ('x',)                          15.0\n",
      "0.10%              ('ux','uy')                     15.0\n",
      "                   ('ux','uy','uz')                15.0\n",
      "                   ('ux','uy','uz','x')            15.0\n",
      "                   ('ux','uy','uz','x','y')        15.0\n",
      "                   ('ux','uy','uz','x','y','z')    15.0\n",
      "                   ('ux','uy','x','y')             15.0\n",
      "                   ('ux',)                         15.0\n",
      "                   ('x','y')                       15.0\n",
      "                   ('x','y','z')                   15.0\n",
      "                   ('x',)                          15.0\n",
      "1.00%              ('ux','uy')                     15.0\n",
      "                   ('ux','uy','uz')                15.0\n",
      "                   ('ux','uy','uz','x')            15.0\n",
      "                   ('ux','uy','uz','x','y')        15.0\n",
      "                   ('ux','uy','uz','x','y','z')    15.0\n",
      "                   ('ux','uy','x','y')             15.0\n",
      "                   ('ux',)                         15.0\n",
      "                   ('x','y')                       15.0\n",
      "                   ('x','y','z')                   15.0\n",
      "                   ('x',)                          15.0\n",
      "10.00%             ('ux','uy')                     15.0\n",
      "                   ('ux','uy','uz')                15.0\n",
      "                   ('ux','uy','uz','x')            15.0\n",
      "                   ('ux','uy','uz','x','y')        15.0\n",
      "                   ('ux','uy','uz','x','y','z')    15.0\n",
      "                   ('ux','uy','x','y')             15.0\n",
      "                   ('ux',)                         15.0\n",
      "                   ('x','y')                       15.0\n",
      "                   ('x','y','z')                   15.0\n",
      "                   ('x',)                          15.0\n",
      "dtype: float64\n",
      "\n",
      "target_percentage  select_set                  \n",
      "0.01%              ('ux','uy')                     15\n",
      "                   ('ux','uy','uz')                15\n",
      "                   ('ux','uy','uz','x')            15\n",
      "                   ('ux','uy','uz','x','y')        15\n",
      "                   ('ux','uy','uz','x','y','z')    15\n",
      "                   ('ux','uy','x','y')             15\n",
      "                   ('ux',)                         15\n",
      "                   ('x','y')                       15\n",
      "                   ('x','y','z')                   15\n",
      "                   ('x',)                          15\n",
      "10.00%             ('ux','uy')                     15\n",
      "                   ('ux','uy','uz')                15\n",
      "                   ('ux','uy','uz','x')            15\n",
      "                   ('ux','uy','uz','x','y')        15\n",
      "                   ('ux','uy','uz','x','y','z')    15\n",
      "                   ('ux','uy','x','y')             15\n",
      "                   ('ux',)                         15\n",
      "                   ('x','y')                       15\n",
      "                   ('x','y','z')                   15\n",
      "                   ('x',)                          15\n",
      "dtype: int64\n",
      "\n",
      "target_percentage  select_set                  \n",
      "0.01%              ('ux','uy')                     1\n",
      "                   ('ux','uy','uz')                1\n",
      "                   ('ux','uy','uz','x')            1\n",
      "                   ('ux','uy','uz','x','y')        1\n",
      "                   ('ux','uy','uz','x','y','z')    1\n",
      "                   ('ux',)                         1\n",
      "10.00%             ('ux','uy')                     1\n",
      "                   ('ux','uy','uz')                1\n",
      "                   ('ux','uy','uz','x')            1\n",
      "                   ('ux','uy','uz','x','y')        1\n",
      "                   ('ux','uy','uz','x','y','z')    1\n",
      "                   ('ux',)                         1\n",
      "dtype: int64\n"
     ]
    }
   ],
   "execution_count": 3
  },
  {
   "metadata": {
    "ExecuteTime": {
     "end_time": "2024-06-27T23:59:44.963886Z",
     "start_time": "2024-06-27T23:59:44.961559Z"
    }
   },
   "cell_type": "code",
   "source": [
    "global_tick_fontsize = 20\n",
    "global_label_fontsize = 24\n",
    "global_annotation_fontsize = 20\n",
    "global_legend_fontsize = 18"
   ],
   "id": "254bfd4b4f9112bb",
   "outputs": [],
   "execution_count": 4
  },
  {
   "metadata": {
    "ExecuteTime": {
     "end_time": "2024-06-28T00:06:49.124857Z",
     "start_time": "2024-06-28T00:06:48.939177Z"
    }
   },
   "cell_type": "code",
   "source": [
    "# only keep the test_type with specific values: 1 and 25\\\n",
    "# plot_df = averaged_df[averaged_df['test_type'].isin([1, 25])]\n",
    "plot_df = averaged_df\n",
    "\n",
    "plot_df = plot_df[plot_df['select_set_length'] <= 3]\n",
    "\n",
    "fig, ax = plt.subplots()\n",
    "# set figure size\n",
    "fig.set_size_inches(6, 6)\n",
    "\n",
    "# the value difference between test_type 1 and 25 is too large, so we use log scale\n",
    "# plot_df['total_time_elapsed'] = plot_df['total_time_elapsed'].apply(lambda x: np.log10(x))\n",
    "\n",
    "# log for query_result_size and chunk_range_size\n",
    "# plot_df['query_result_size'] = plot_df['query_result_size'].apply(lambda x: np.log10(x))\n",
    "# plot_df['chunk_range_size'] = plot_df['chunk_range_size'].apply(lambda x: np.log10(x))\n",
    "\n",
    "\n",
    "# plot grouped bar chart, x is select_set_length, y is time_elapsed, grouped by test_type\n",
    "plot_df.pivot(index='select_set_length', columns='target_percentage', values='total_time_elapsed').plot(kind='bar', ax=ax)\n",
    "legend = ax.legend(title='', loc='upper left', fontsize=global_legend_fontsize)\n",
    "\n",
    "for text in legend.get_texts():\n",
    "    text.set_fontweight('bold')\n",
    "\n",
    "# mark the number on the top of each bar before log\n",
    "for i, p in enumerate(ax.patches):\n",
    "    if i == 0:\n",
    "    # ax.annotate(str(round(10**p.get_height(), 2)), (p.get_x() + 0.02, p.get_height() + 0.05), fontsize=global_annotation_fontsize, fontweight='bold')\n",
    "        ax.annotate(str(round(p.get_height(), 2)), (p.get_x() - 0.13, p.get_height() + 2), fontsize=global_annotation_fontsize, fontweight='bold')\n",
    "    elif i == 1:\n",
    "    # ax.annotate(str(round(10**p.get_height(), 2)), (p.get_x() + 0.02, p.get_height() + 0.05), fontsize=global_annotation_fontsize, fontweight='bold')\n",
    "        ax.annotate(str(round(p.get_height(), 2)), (p.get_x() - 0.23, p.get_height() + 2), fontsize=global_annotation_fontsize, fontweight='bold')\n",
    "    elif i == 2:\n",
    "    # ax.annotate(str(round(10**p.get_height(), 2)), (p.get_x() + 0.02, p.get_height() + 0.05), fontsize=global_annotation_fontsize, fontweight='bold')\n",
    "        ax.annotate(str(round(p.get_height(), 2)), (p.get_x() - 0.28, p.get_height() + 2), fontsize=global_annotation_fontsize, fontweight='bold')\n",
    "    elif i == 5:\n",
    "    # ax.annotate(str(round(10**p.get_height(), 2)), (p.get_x() + 0.02, p.get_height() + 0.05), fontsize=global_annotation_fontsize, fontweight='bold')\n",
    "        ax.annotate(str(round(p.get_height(), 2)), (p.get_x(), p.get_height() + 2), fontsize=global_annotation_fontsize, fontweight='bold')\n",
    "    else:\n",
    "        ax.annotate(str(round(p.get_height(), 2)), (p.get_x() + 0.03, p.get_height() + 2), fontsize=global_annotation_fontsize, fontweight='bold')\n",
    "\n",
    "plt.xticks(rotation=0)\n",
    "# plt y range\n",
    "plt.ylim(0, 170)\n",
    "# x label\n",
    "plt.xlabel(\"Dimensions of Select Set\", fontsize=global_label_fontsize, labelpad=10, fontweight='bold')\n",
    "# y label\n",
    "plt.ylabel(\"Total Time Elapsed (s)\", fontsize=global_label_fontsize, fontweight='bold')\n",
    "\n",
    "# current_values = plt.gca().get_yticks()\n",
    "# plt.gca().yaxis.set_major_formatter(FuncFormatter(exp_formatter))\n",
    "plt.gca().yaxis.set_major_locator(MultipleLocator(50))\n",
    "# plt.gca().set_yticklabels([str(int(pow(10, y))) for y in plt.gca().get_yticks()])\n",
    "\n",
    "# Adjust tick label fontsize\n",
    "plt.gca().tick_params(axis='y', labelsize=global_tick_fontsize)  # Adjust label size as needed\n",
    "plt.gca().tick_params(axis='x', labelsize=global_tick_fontsize, pad=7)\n",
    "\n",
    "plt.xticks(fontweight='bold')\n",
    "plt.yticks(fontweight='bold')\n",
    "\n",
    "# plot 'query_result_size', 'chunk_range_size' in the same figure as the plot and use right y-axis with test_type = 25\n",
    "'''\n",
    "ax2 = ax.twinx()\n",
    "# ax2.set_xlim((ax.get_xlim()))\n",
    "# with point * as marker\n",
    "# select_set_length is the x-axis and start from 0\n",
    "plot_df['select_set_length'] = plot_df['select_set_length'] - 1\n",
    "# plot_df[averaged_df['test_type'] == 25].pivot(index='select_set_length', columns='test_type', values='query_result_size').plot(kind='line', ax=ax2, color='blue', marker='*', markersize=10)\n",
    "plot_df[averaged_df['test_type'] == 25].pivot(index='select_set_length', columns='target_percentage', values='chunk_range_size').plot(kind='line', ax=ax2, color='red', marker='o', markersize=8, linewidth=2)\n",
    "plt.ylim(0, 3400)\n",
    "\n",
    "# y label\n",
    "plt.ylabel(\"I/O Numbers of ABC Indexing\", fontsize=global_label_fontsize, rotation=270, labelpad=25, fontweight='bold')\n",
    "current_values = plt.gca().get_yticks()\n",
    "plt.gca().yaxis.set_major_locator(MultipleLocator(1000))\n",
    "# plt.gca().yaxis.set_major_formatter(FuncFormatter(exp_formatter))\n",
    "plt.gca().set_yticklabels([f\"{int(y / 1000)}k\" if y != 0 else \"0\" for y in plt.gca().get_yticks()])\n",
    "# Adjust tick label fontsize\n",
    "plt.gca().tick_params(axis='y', labelsize=global_tick_fontsize)  # Adjust label size as needed\n",
    "\n",
    "# Remove the legend\n",
    "plt.gca().get_legend().remove()\n",
    "\n",
    "plt.yticks(fontweight='bold')\n",
    "'''\n",
    "plt.savefig(proj_path + \"plot/final/motivation_small_percentage.pdf\", bbox_inches='tight', pad_inches=0.1)\n",
    "plt.show()\n",
    "print()"
   ],
   "id": "7644dfa23fb0f02b",
   "outputs": [
    {
     "data": {
      "text/plain": [
       "<Figure size 600x600 with 1 Axes>"
      ],
      "image/png": "[encoded data removed]"
     },
     "metadata": {},
     "output_type": "display_data"
    },
    {
     "name": "stdout",
     "output_type": "stream",
     "text": [
      "\n"
     ]
    }
   ],
   "execution_count": 32
  },
  {
   "metadata": {
    "ExecuteTime": {
     "end_time": "2024-06-27T23:59:45.127083Z",
     "start_time": "2024-06-27T23:59:45.125507Z"
    }
   },
   "cell_type": "code",
   "source": "",
   "id": "74f55b3fb8a08bf6",
   "outputs": [],
   "execution_count": 5
  },
  {
   "metadata": {
    "ExecuteTime": {
     "end_time": "2024-06-27T23:59:45.129030Z",
     "start_time": "2024-06-27T23:59:45.127715Z"
    }
   },
   "cell_type": "code",
   "source": "",
   "id": "82f4f4884916870",
   "outputs": [],
   "execution_count": 5
  },
  {
   "metadata": {
    "ExecuteTime": {
     "end_time": "2024-06-27T23:59:45.130781Z",
     "start_time": "2024-06-27T23:59:45.129582Z"
    }
   },
   "cell_type": "code",
   "source": "",
   "id": "ce8fa013f1d164a1",
   "outputs": [],
   "execution_count": 5
  },
  {
   "metadata": {
    "ExecuteTime": {
     "end_time": "2024-06-27T23:59:45.132486Z",
     "start_time": "2024-06-27T23:59:45.131309Z"
    }
   },
   "cell_type": "code",
   "source": "",
   "id": "def3dba3da69a55",
   "outputs": [],
   "execution_count": 5
  }
 ],
 "metadata": {
  "kernelspec": {
   "display_name": "Python 3",
   "language": "python",
   "name": "python3"
  },
  "language_info": {
   "codemirror_mode": {
    "name": "ipython",
    "version": 2
   },
   "file_extension": ".py",
   "mimetype": "text/x-python",
   "name": "python",
   "nbconvert_exporter": "python",
   "pygments_lexer": "ipython2",
   "version": "2.7.6"
  }
 },
 "nbformat": 4,
 "nbformat_minor": 5
}
